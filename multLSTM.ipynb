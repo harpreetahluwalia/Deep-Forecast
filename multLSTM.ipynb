{
  "nbformat": 4,
  "nbformat_minor": 0,
  "metadata": {
    "colab": {
      "provenance": [],
      "collapsed_sections": [],
      "authorship_tag": "ABX9TyP0btUiYZvVYcViRLDQhukh"
    },
    "kernelspec": {
      "name": "python3",
      "display_name": "Python 3"
    },
    "language_info": {
      "name": "python"
    },
    "accelerator": "GPU"
  },
  "cells": [
    {
      "cell_type": "code",
      "source": [
        "import tensorflow as tf\n",
        "tf.__version__"
      ],
      "metadata": {
        "colab": {
          "base_uri": "https://localhost:8080/",
          "height": 38
        },
        "id": "xBNDMOwZhKKH",
        "outputId": "4916e823-d068-4a56-f350-e61c37c19358"
      },
      "execution_count": 5,
      "outputs": [
        {
          "output_type": "execute_result",
          "data": {
            "text/plain": [
              "'2.9.2'"
            ],
            "application/vnd.google.colaboratory.intrinsic+json": {
              "type": "string"
            }
          },
          "metadata": {},
          "execution_count": 5
        }
      ]
    },
    {
      "cell_type": "code",
      "source": [
        "import keras as keras\n",
        "tf.__version__"
      ],
      "metadata": {
        "colab": {
          "base_uri": "https://localhost:8080/",
          "height": 38
        },
        "id": "eQj2mNersxug",
        "outputId": "deb3c51a-57d0-4518-d96e-21fa369da51e"
      },
      "execution_count": 6,
      "outputs": [
        {
          "output_type": "execute_result",
          "data": {
            "text/plain": [
              "'2.9.2'"
            ],
            "application/vnd.google.colaboratory.intrinsic+json": {
              "type": "string"
            }
          },
          "metadata": {},
          "execution_count": 6
        }
      ]
    },
    {
      "cell_type": "code",
      "source": [
        "!tf_upgrade_v2 -h"
      ],
      "metadata": {
        "colab": {
          "base_uri": "https://localhost:8080/"
        },
        "id": "ltXknYl-1Kvm",
        "outputId": "406ab37a-26bf-4e81-d0a4-a37f3f068116"
      },
      "execution_count": 11,
      "outputs": [
        {
          "output_type": "stream",
          "name": "stdout",
          "text": [
            "usage: tf_upgrade_v2 [-h] [--infile INPUT_FILE] [--outfile OUTPUT_FILE]\n",
            "                     [--intree INPUT_TREE] [--outtree OUTPUT_TREE]\n",
            "                     [--copyotherfiles COPY_OTHER_FILES] [--inplace]\n",
            "                     [--no_import_rename] [--no_upgrade_compat_v1_import]\n",
            "                     [--reportfile REPORT_FILENAME] [--mode {DEFAULT,SAFETY}]\n",
            "                     [--print_all]\n",
            "\n",
            "Convert a TensorFlow Python file from 1.x to 2.0\n",
            "\n",
            "Simple usage:\n",
            "  tf_upgrade_v2.py --infile foo.py --outfile bar.py\n",
            "  tf_upgrade_v2.py --infile foo.ipynb --outfile bar.ipynb\n",
            "  tf_upgrade_v2.py --intree ~/code/old --outtree ~/code/new\n",
            "\n",
            "optional arguments:\n",
            "  -h, --help            show this help message and exit\n",
            "  --infile INPUT_FILE   If converting a single file, the name of the file to\n",
            "                        convert\n",
            "  --outfile OUTPUT_FILE\n",
            "                        If converting a single file, the output filename.\n",
            "  --intree INPUT_TREE   If converting a whole tree of files, the directory to\n",
            "                        read from (relative or absolute).\n",
            "  --outtree OUTPUT_TREE\n",
            "                        If converting a whole tree of files, the output\n",
            "                        directory (relative or absolute).\n",
            "  --copyotherfiles COPY_OTHER_FILES\n",
            "                        If converting a whole tree of files, whether to copy\n",
            "                        the other files.\n",
            "  --inplace             If converting a set of files, whether to allow the\n",
            "                        conversion to be performed on the input files.\n",
            "  --no_import_rename    Not to rename import to compat.v2 explicitly.\n",
            "  --no_upgrade_compat_v1_import\n",
            "                        If specified, don't upgrade explicit imports of\n",
            "                        `tensorflow.compat.v1 as tf` to the v2 APIs.\n",
            "                        Otherwise, explicit imports of the form\n",
            "                        `tensorflow.compat.v1 as tf` will be upgraded.\n",
            "  --reportfile REPORT_FILENAME\n",
            "                        The name of the file where the report log is\n",
            "                        stored.(default: report.txt)\n",
            "  --mode {DEFAULT,SAFETY}\n",
            "                        Upgrade script mode. Supported modes: DEFAULT: Perform\n",
            "                        only straightforward conversions to upgrade to 2.0. In\n",
            "                        more difficult cases, switch to use compat.v1. SAFETY:\n",
            "                        Keep 1.* code intact and import compat.v1 module.\n",
            "  --print_all           Print full log to stdout instead of just printing\n",
            "                        errors\n"
          ]
        }
      ]
    },
    {
      "cell_type": "code",
      "source": [
        "!tf_upgrade_v2 \\\n",
        "  --infile /content/multiLSTM.py \\\n",
        "  --outfile /content/multiLSTM_tf_v2.py"
      ],
      "metadata": {
        "colab": {
          "base_uri": "https://localhost:8080/"
        },
        "id": "JIo8DKOP1YPG",
        "outputId": "f92f6f2e-c2ee-47b4-cc21-131c92d6439d"
      },
      "execution_count": 16,
      "outputs": [
        {
          "output_type": "stream",
          "name": "stdout",
          "text": [
            "TensorFlow 2.0 Upgrade Script\n",
            "-----------------------------\n",
            "Converted 1 files\n",
            "Detected 0 issues that require attention\n",
            "--------------------------------------------------------------------------------\n",
            "\n",
            "\n",
            "Make sure to read the detailed log 'report.txt'\n",
            "\n"
          ]
        }
      ]
    },
    {
      "cell_type": "code",
      "source": [
        "tf_upgrade_v2 \\\n",
        "  --intree /multiLSTM.py \\\n",
        "  --outtree /multiLSTM_tf_v2 \\\n",
        "  --reportfile /report.txt"
      ],
      "metadata": {
        "colab": {
          "base_uri": "https://localhost:8080/",
          "height": 200
        },
        "id": "KD1JO5iX09tm",
        "outputId": "83340953-8c54-4574-9f44-e4b940191a17"
      },
      "execution_count": 12,
      "outputs": [
        {
          "output_type": "error",
          "ename": "NameError",
          "evalue": "ignored",
          "traceback": [
            "\u001b[0;31m---------------------------------------------------------------------------\u001b[0m",
            "\u001b[0;31mNameError\u001b[0m                                 Traceback (most recent call last)",
            "\u001b[0;32m<ipython-input-12-cbe9869bcefd>\u001b[0m in \u001b[0;36m<module>\u001b[0;34m\u001b[0m\n\u001b[1;32m      2\u001b[0m   \u001b[0;34m-\u001b[0m\u001b[0;34m-\u001b[0m\u001b[0mintree\u001b[0m \u001b[0;34m/\u001b[0m\u001b[0mmultiLSTM\u001b[0m\u001b[0;34m.\u001b[0m\u001b[0mpy\u001b[0m\u001b[0;31m \u001b[0m\u001b[0;31m\\\u001b[0m\u001b[0;34m\u001b[0m\u001b[0;34m\u001b[0m\u001b[0m\n\u001b[1;32m      3\u001b[0m   \u001b[0;34m-\u001b[0m\u001b[0;34m-\u001b[0m\u001b[0mouttree\u001b[0m \u001b[0;34m/\u001b[0m\u001b[0mmultiLSTM_tf_v2\u001b[0m\u001b[0;31m \u001b[0m\u001b[0;31m\\\u001b[0m\u001b[0;34m\u001b[0m\u001b[0;34m\u001b[0m\u001b[0m\n\u001b[0;32m----> 4\u001b[0;31m   \u001b[0;34m-\u001b[0m\u001b[0;34m-\u001b[0m\u001b[0mreportfile\u001b[0m \u001b[0;34m/\u001b[0m\u001b[0mreport\u001b[0m\u001b[0;34m.\u001b[0m\u001b[0mtxt\u001b[0m\u001b[0;34m\u001b[0m\u001b[0;34m\u001b[0m\u001b[0m\n\u001b[0m",
            "\u001b[0;31mNameError\u001b[0m: name 'tf_upgrade_v2' is not defined"
          ]
        }
      ]
    },
    {
      "cell_type": "code",
      "source": [
        "import matplotlib.pyplot as plt\n",
        "import numpy as np\n",
        "import time\n",
        "import csv\n",
        "import sys\n",
        "import tensorflow as tf\n",
        "from keras.models import Sequential\n",
        "from keras.layers.core import Dense, Activation, Dropout, Flatten\n",
        "from keras.layers import Convolution2D\n",
        "from keras.layers import LSTM, SimpleRNN, GRU\n",
        "import keras as keras\n",
        "np.random.seed(1234)\n",
        "from keras import backend as K\n",
        "\n",
        "class multiLSTM:\n",
        "    def __init__(self):\n",
        "        self.inputHorizon = 12 # number of time steps as input\n",
        "        self.inOutVecDim = 57  # number of stations\n",
        "        self.lstmModels = [ None for _ in range(6)]\n",
        "        self.xTest, self.yTest = None, None\n",
        "        file_dataset = '/content/MS_winds.dat'\n",
        "        with open(file_dataset) as f:\n",
        "            data = csv.reader(f, delimiter=\",\")\n",
        "            winds = []\n",
        "            for line in data:\n",
        "                winds.append((line))\n",
        "        self.winds = (np.array(winds)).astype(float) # all data\n",
        "        self.winds = self.winds[:,:self.inOutVecDim]\n",
        "        self.means_stds = [0,0]\n",
        "        self.winds, self.means_stds = self.normalize_winds_0_1(self.winds)\n",
        "        self.validation_split = 0.05\n",
        "        self.batchSize = 3\n",
        "        activation = ['sigmoid',   \"tanh\",   \"relu\", 'linear']\n",
        "        self.activation = activation[2]\n",
        "        realRun = 1\n",
        "        #          model number :           1   2   3   4   5   6\n",
        "        self.epochs, self.trainDataRate = [[15, 17, 15, 17, 15, 15], 1] if realRun else [[ 1, 1, 1, 1, 1, 1] , 0.005]# percentage of data used for training(saving time for debuging)\n",
        "\n",
        "    def normalize_winds_0_1(self, winds):\n",
        "        '''normalize based on each station data'''\n",
        "        stations = winds.shape[1]\n",
        "        normal_winds = []\n",
        "        mins_maxs = []\n",
        "        windMax = winds.max()\n",
        "        windMin = winds.min()\n",
        "        normal_winds = (winds - windMin) / windMax\n",
        "        mins_maxs = [windMin, windMax]\n",
        "        return np.array(normal_winds), mins_maxs\n",
        "\n",
        "    def denormalize(self, vec):\n",
        "        res = vec * self.means_stds[1] + self.means_stds[0]        #  fro 0 to 1\n",
        "        return res\n",
        "\n",
        "    def loadData_1(self):\n",
        "        # for lstm1 output xtrain ytrain\n",
        "        result = []\n",
        "        for index in range(len(self.winds) - self.inputHorizon):\n",
        "            result.append(self.winds[index:index + self.inputHorizon])\n",
        "        result = np.array(result)  \n",
        "\n",
        "        trainRow = int(6000 * self.trainDataRate)\n",
        "        X_train = result[:trainRow, :]\n",
        "        y_train = self.winds[self.inputHorizon:trainRow + self.inputHorizon]\n",
        "        self.xTest = result[6000:6361, :]\n",
        "        self.yTest = self.winds[6000 + self.inputHorizon:6361 + self.inputHorizon]\n",
        "        self.predicted = np.zeros_like(self.yTest)\n",
        "        return [X_train, y_train]\n",
        "\n",
        "    def loadData(self, preXTrain, preYTrain, model): # xtrain and ytrain from loadData_1\n",
        "        # for lstm2 output: xtrain ytrain\n",
        "        xTrain, yTrain = np.ones_like(preXTrain), np.zeros_like(preYTrain)\n",
        "  \n",
        "        for ind in range(len(preXTrain) - self.inputHorizon -1):\n",
        "            tempInput = preXTrain[ind]\n",
        "            temp_shape = tempInput.shape\n",
        "            tempInput = np.reshape(tempInput, (1,temp_shape[0],temp_shape[1]))\n",
        "            output = model.predict(tempInput)\n",
        "            tInput = np.reshape(tempInput,temp_shape)\n",
        "            tempInput = np.vstack((tInput, output))\n",
        "            tempInput = np.delete(tempInput, 0, axis=0)\n",
        "            xTrain[ind] = tempInput\n",
        "            yTrain[ind] = preYTrain[ind+1]\n",
        "        return [xTrain, yTrain]\n",
        "\n",
        "  \n",
        "    def buildModelLSTM_1(self):\n",
        "        model = Sequential()\n",
        "        in_nodes = out_nodes = self.inOutVecDim\n",
        "        layers = [in_nodes, 57*2, 57, 32, out_nodes]\n",
        "        model.add(LSTM(input_dim=layers[0],output_dim=layers[1],\n",
        "            return_sequences=False))\n",
        "    \n",
        "        model.add(Dense(\n",
        "            output_dim=layers[4]))\n",
        "        model.add(Activation(self.activation))\n",
        "    \n",
        "        optimizer = keras.optimizers.RMSprop(lr=0.001)\n",
        "        model.compile(loss=\"mae\", optimizer=optimizer)\n",
        "\n",
        "        return model\n",
        "\n",
        "    def buildModelLSTM_2(self):\n",
        "        model = Sequential()\n",
        "        layers = [self.inOutVecDim, 10 , 57 * 2, 32, self.inOutVecDim]\n",
        "        model.add(LSTM(input_dim=layers[0],output_dim=layers[1],\n",
        "            return_sequences=False))\n",
        "\n",
        "        model.add(Dense(\n",
        "            output_dim=layers[4]))\n",
        "\n",
        "        model.add(Activation(self.activation))\n",
        "\n",
        "        optimizer = keras.optimizers.RMSprop(lr=0.001)\n",
        "        model.compile(loss=\"mae\", optimizer=optimizer)\n",
        "\n",
        "        return model\n",
        "\n",
        "    def buildModelLSTM_3(self):\n",
        "        model = Sequential()\n",
        "\n",
        "        layers = [self.inOutVecDim, 57, 57 * 2, 32, self.inOutVecDim]\n",
        "        model.add(LSTM(input_dim=layers[0], output_dim=layers[1],\n",
        "            return_sequences=False))\n",
        "\n",
        "        model.add(Dense(\n",
        "            output_dim=layers[4]))\n",
        "\n",
        "        model.add(Activation(self.activation))\n",
        "\n",
        "        optimizer = keras.optimizers.RMSprop(lr=0.001)\n",
        "        model.compile(loss=\"mae\", optimizer=optimizer)\n",
        "\n",
        "        return model\n",
        "\n",
        "    def buildModelLSTM_4(self):\n",
        "        model = Sequential()\n",
        "\n",
        "        layers = [self.inOutVecDim, 57, 57 * 2, 57, self.inOutVecDim]\n",
        "        model.add(LSTM(input_dim=layers[0], output_dim=layers[1],\n",
        "            return_sequences=True))\n",
        "\n",
        "        model.add(LSTM(layers[2],\n",
        "            return_sequences=False))\n",
        "\n",
        "        model.add(Dense(output_dim=layers[4]))\n",
        "\n",
        "        model.add(Activation(self.activation))\n",
        "\n",
        "        optimizer = keras.optimizers.RMSprop(lr=0.001)\n",
        "        model.compile(loss=\"mae\", optimizer=optimizer)\n",
        "\n",
        "        return model\n",
        "\n",
        "    def buildModelLSTM_5(self):\n",
        "        model = Sequential()\n",
        "\n",
        "        layers = [self.inOutVecDim, 30, 57 * 2, 57, self.inOutVecDim]\n",
        "        model.add(LSTM(input_dim=layers[0], output_dim=layers[1],\n",
        "            return_sequences=False))\n",
        "\n",
        "        model.add(Dense(output_dim=layers[4]))\n",
        "\n",
        "        model.add(Activation(self.activation))\n",
        "\n",
        "        optimizer = keras.optimizers.RMSprop(lr=0.001)\n",
        "        model.compile(loss=\"mae\", optimizer=optimizer)\n",
        "\n",
        "        return model\n",
        "\n",
        "    def buildModelLSTM_6(self):\n",
        "        model = Sequential()\n",
        "        layers = [self.inOutVecDim, 57*2, 57 * 2, 57, self.inOutVecDim]\n",
        "        model.add(LSTM(input_dim=layers[0], output_dim=layers[1],\n",
        "        return_sequences=True))\n",
        "\n",
        "\n",
        "        model.add(LSTM(layers[2],\n",
        "            return_sequences=False))\n",
        "\n",
        "        model.add(Dense(output_dim=layers[4]))\n",
        "\n",
        "        model.add(Activation(self.activation))\n",
        "\n",
        "        optimizer = keras.optimizers.RMSprop(lr=0.001)\n",
        "        model.compile(loss=\"mae\", optimizer=optimizer)\n",
        "\n",
        "        return model\n",
        "\n",
        "    def buildModelLSTM(self, lstmModelNum):\n",
        "        if   lstmModelNum == 1:\n",
        "            return self.buildModelLSTM_1()\n",
        "        elif lstmModelNum == 2:\n",
        "            return self.buildModelLSTM_2()\n",
        "        elif lstmModelNum == 3:\n",
        "            return self.buildModelLSTM_3()\n",
        "        elif lstmModelNum == 4:\n",
        "            return self.buildModelLSTM_4()\n",
        "        elif lstmModelNum == 5:\n",
        "            return self.buildModelLSTM_5()\n",
        "        elif lstmModelNum == 6:\n",
        "            return self.buildModelLSTM_6()\n",
        "\n",
        "    def trainLSTM(self, xTrain, yTrain, lstmModelNum):\n",
        "        # train first LSTM with inputHorizon number of real input values\n",
        "\n",
        "        lstmModel = self.buildModelLSTM(lstmModelNum)\n",
        "        lstmModel.fit(xTrain, yTrain, batch_size=self.batchSize, nb_epoch=self.epochs[lstmModelNum-1], validation_split=self.validation_split)\n",
        "        return lstmModel\n",
        "\n",
        "    def test(self):\n",
        "        ''' calculate the predicted values(self.predicted) '''\n",
        "        for ind in range(len(self.xTest)):\n",
        "            modelInd = ind % 6\n",
        "            if modelInd == 0:\n",
        "                testInputRaw = self.xTest[ind]\n",
        "                testInputShape = testInputRaw.shape\n",
        "                testInput = np.reshape(testInputRaw, [1, testInputShape[0], testInputShape[1]])\n",
        "            else :\n",
        "                testInputRaw = np.vstack((testInputRaw, self.predicted[ind-1]))\n",
        "                testInput = np.delete(testInputRaw, 0, axis=0)\n",
        "                testInputShape = testInput.shape\n",
        "                testInput = np.reshape(testInput, [1, testInputShape[0], testInputShape[1]])\n",
        "\n",
        "            self.predicted[ind] = self.lstmModels[modelInd].predict(testInput)\n",
        "\n",
        "        return\n",
        "\n",
        "    def errorMeasures(self, denormalYTest, denormalYPredicted):\n",
        "\n",
        "        mae = np.mean(np.absolute(denormalYTest - denormalYPredicted))\n",
        "        rmse = np.sqrt((np.mean((np.absolute(denormalYTest - denormalYPredicted)) ** 2)))\n",
        "        nrsme_maxMin = 100*rmse / (denormalYTest.max() - denormalYTest.min())\n",
        "        nrsme_mean = 100 * rmse / (denormalYTest.mean())\n",
        "\n",
        "        return mae, rmse, nrsme_maxMin, nrsme_mean\n",
        "\n",
        "    def drawGraphStation(self, station, visualise = 1, ax = None ):\n",
        "        '''draw graph of predicted vs real values'''\n",
        "\n",
        "        yTest = self.yTest[:, station]\n",
        "        denormalYTest = self.denormalize(yTest)\n",
        "\n",
        "        denormalPredicted = self.denormalize(self.predicted[:, station])\n",
        "\n",
        "        mae, rmse, nrmse_maxMin, nrmse_mean  = self.errorMeasures(denormalYTest, denormalPredicted)\n",
        "        print( ('station %s : MAE = %7.7s   RMSE = %7.7s    nrmse_maxMin = %7.7s   nrmse_mean = %7.7s'%(station+1, mae, rmse, nrmse_maxMin, nrmse_mean )))\n",
        "\n",
        "        if visualise:\n",
        "            if ax is None :\n",
        "                fig = plt.figure()\n",
        "                ax = fig.add_subplot(111)\n",
        "\n",
        "            ax.plot(denormalYTest, label='Real')\n",
        "            ax.plot(denormalPredicted, label='Predicted', color='red')\n",
        "            ax.set_xticklabels([0, 100, 200, 300], rotation=40)\n",
        "\n",
        "        return mae, rmse, nrmse_maxMin, nrmse_mean\n",
        "\n",
        "    def drawGraphAllStations(self):\n",
        "        rows, cols = 4, 4\n",
        "        maeRmse = np.zeros((rows*cols,4))\n",
        "\n",
        "        fig, ax_array = plt.subplots(rows, cols, sharex=True, sharey=True )\n",
        "        staInd = 0\n",
        "        for ax in np.ravel(ax_array):\n",
        "            maeRmse[staInd] = self.drawGraphStation(staInd, visualise=1, ax=ax)\n",
        "            staInd += 1\n",
        "        plt.xticks([0, 100, 200, 300])#, rotation=45)\n",
        "        errMean = maeRmse.mean(axis=0)\n",
        "        print( maeRmse.mean(axis=0))\n",
        "\n",
        "        filename = 'pgf/finalEpoch'\n",
        "        plt.savefig('{}.pgf'.format(filename))\n",
        "        plt.savefig('{}.pdf'.format(filename))\n",
        "        plt.show()\n",
        "\n",
        "        return\n",
        "\n",
        "    def run(self):\n",
        "        #  training\n",
        "        xTrain, yTrain = self.loadData_1()\n",
        "        print (' Training LSTM 1 ...')\n",
        "        self.lstmModels[0] = self.trainLSTM(xTrain, yTrain, 1)\n",
        "\n",
        "        for modelInd in range(1,6):\n",
        "            xTrain, yTrain = self.loadData(xTrain, yTrain, self.lstmModels[modelInd-1])\n",
        "            print (' Training LSTM %s ...' % (modelInd+1))\n",
        "            self.lstmModels[modelInd] = self.trainLSTM(xTrain, yTrain, modelInd+1)\n",
        "\n",
        "        # testing\n",
        "        print ('...... TESTING  ...')\n",
        "        self.test()\n",
        "\n",
        "        self.drawGraphAllStations()\n",
        "\n",
        "DeepForecaste = multiLSTM()\n",
        "DeepForecaste.run()\n"
      ],
      "metadata": {
        "id": "pSfAO1W-nIi_",
        "colab": {
          "base_uri": "https://localhost:8080/",
          "height": 363
        },
        "outputId": "f91e49ea-612f-4171-d944-46d558c807cc"
      },
      "execution_count": 9,
      "outputs": [
        {
          "output_type": "stream",
          "name": "stdout",
          "text": [
            " Training LSTM 1 ...\n"
          ]
        },
        {
          "output_type": "error",
          "ename": "TypeError",
          "evalue": "ignored",
          "traceback": [
            "\u001b[0;31m---------------------------------------------------------------------------\u001b[0m",
            "\u001b[0;31mTypeError\u001b[0m                                 Traceback (most recent call last)",
            "\u001b[0;32m<ipython-input-9-86fb88e9905b>\u001b[0m in \u001b[0;36m<module>\u001b[0;34m\u001b[0m\n\u001b[1;32m    295\u001b[0m \u001b[0;34m\u001b[0m\u001b[0m\n\u001b[1;32m    296\u001b[0m \u001b[0mDeepForecaste\u001b[0m \u001b[0;34m=\u001b[0m \u001b[0mmultiLSTM\u001b[0m\u001b[0;34m(\u001b[0m\u001b[0;34m)\u001b[0m\u001b[0;34m\u001b[0m\u001b[0;34m\u001b[0m\u001b[0m\n\u001b[0;32m--> 297\u001b[0;31m \u001b[0mDeepForecaste\u001b[0m\u001b[0;34m.\u001b[0m\u001b[0mrun\u001b[0m\u001b[0;34m(\u001b[0m\u001b[0;34m)\u001b[0m\u001b[0;34m\u001b[0m\u001b[0;34m\u001b[0m\u001b[0m\n\u001b[0m",
            "\u001b[0;32m<ipython-input-9-86fb88e9905b>\u001b[0m in \u001b[0;36mrun\u001b[0;34m(self)\u001b[0m\n\u001b[1;32m    281\u001b[0m         \u001b[0mxTrain\u001b[0m\u001b[0;34m,\u001b[0m \u001b[0myTrain\u001b[0m \u001b[0;34m=\u001b[0m \u001b[0mself\u001b[0m\u001b[0;34m.\u001b[0m\u001b[0mloadData_1\u001b[0m\u001b[0;34m(\u001b[0m\u001b[0;34m)\u001b[0m\u001b[0;34m\u001b[0m\u001b[0;34m\u001b[0m\u001b[0m\n\u001b[1;32m    282\u001b[0m         \u001b[0mprint\u001b[0m \u001b[0;34m(\u001b[0m\u001b[0;34m' Training LSTM 1 ...'\u001b[0m\u001b[0;34m)\u001b[0m\u001b[0;34m\u001b[0m\u001b[0;34m\u001b[0m\u001b[0m\n\u001b[0;32m--> 283\u001b[0;31m         \u001b[0mself\u001b[0m\u001b[0;34m.\u001b[0m\u001b[0mlstmModels\u001b[0m\u001b[0;34m[\u001b[0m\u001b[0;36m0\u001b[0m\u001b[0;34m]\u001b[0m \u001b[0;34m=\u001b[0m \u001b[0mself\u001b[0m\u001b[0;34m.\u001b[0m\u001b[0mtrainLSTM\u001b[0m\u001b[0;34m(\u001b[0m\u001b[0mxTrain\u001b[0m\u001b[0;34m,\u001b[0m \u001b[0myTrain\u001b[0m\u001b[0;34m,\u001b[0m \u001b[0;36m1\u001b[0m\u001b[0;34m)\u001b[0m\u001b[0;34m\u001b[0m\u001b[0;34m\u001b[0m\u001b[0m\n\u001b[0m\u001b[1;32m    284\u001b[0m \u001b[0;34m\u001b[0m\u001b[0m\n\u001b[1;32m    285\u001b[0m         \u001b[0;32mfor\u001b[0m \u001b[0mmodelInd\u001b[0m \u001b[0;32min\u001b[0m \u001b[0mrange\u001b[0m\u001b[0;34m(\u001b[0m\u001b[0;36m1\u001b[0m\u001b[0;34m,\u001b[0m\u001b[0;36m6\u001b[0m\u001b[0;34m)\u001b[0m\u001b[0;34m:\u001b[0m\u001b[0;34m\u001b[0m\u001b[0;34m\u001b[0m\u001b[0m\n",
            "\u001b[0;32m<ipython-input-9-86fb88e9905b>\u001b[0m in \u001b[0;36mtrainLSTM\u001b[0;34m(self, xTrain, yTrain, lstmModelNum)\u001b[0m\n\u001b[1;32m    204\u001b[0m         \u001b[0;31m# train first LSTM with inputHorizon number of real input values\u001b[0m\u001b[0;34m\u001b[0m\u001b[0;34m\u001b[0m\u001b[0;34m\u001b[0m\u001b[0m\n\u001b[1;32m    205\u001b[0m \u001b[0;34m\u001b[0m\u001b[0m\n\u001b[0;32m--> 206\u001b[0;31m         \u001b[0mlstmModel\u001b[0m \u001b[0;34m=\u001b[0m \u001b[0mself\u001b[0m\u001b[0;34m.\u001b[0m\u001b[0mbuildModelLSTM\u001b[0m\u001b[0;34m(\u001b[0m\u001b[0mlstmModelNum\u001b[0m\u001b[0;34m)\u001b[0m\u001b[0;34m\u001b[0m\u001b[0;34m\u001b[0m\u001b[0m\n\u001b[0m\u001b[1;32m    207\u001b[0m         \u001b[0mlstmModel\u001b[0m\u001b[0;34m.\u001b[0m\u001b[0mfit\u001b[0m\u001b[0;34m(\u001b[0m\u001b[0mxTrain\u001b[0m\u001b[0;34m,\u001b[0m \u001b[0myTrain\u001b[0m\u001b[0;34m,\u001b[0m \u001b[0mbatch_size\u001b[0m\u001b[0;34m=\u001b[0m\u001b[0mself\u001b[0m\u001b[0;34m.\u001b[0m\u001b[0mbatchSize\u001b[0m\u001b[0;34m,\u001b[0m \u001b[0mnb_epoch\u001b[0m\u001b[0;34m=\u001b[0m\u001b[0mself\u001b[0m\u001b[0;34m.\u001b[0m\u001b[0mepochs\u001b[0m\u001b[0;34m[\u001b[0m\u001b[0mlstmModelNum\u001b[0m\u001b[0;34m-\u001b[0m\u001b[0;36m1\u001b[0m\u001b[0;34m]\u001b[0m\u001b[0;34m,\u001b[0m \u001b[0mvalidation_split\u001b[0m\u001b[0;34m=\u001b[0m\u001b[0mself\u001b[0m\u001b[0;34m.\u001b[0m\u001b[0mvalidation_split\u001b[0m\u001b[0;34m)\u001b[0m\u001b[0;34m\u001b[0m\u001b[0;34m\u001b[0m\u001b[0m\n\u001b[1;32m    208\u001b[0m         \u001b[0;32mreturn\u001b[0m \u001b[0mlstmModel\u001b[0m\u001b[0;34m\u001b[0m\u001b[0;34m\u001b[0m\u001b[0m\n",
            "\u001b[0;32m<ipython-input-9-86fb88e9905b>\u001b[0m in \u001b[0;36mbuildModelLSTM\u001b[0;34m(self, lstmModelNum)\u001b[0m\n\u001b[1;32m    189\u001b[0m     \u001b[0;32mdef\u001b[0m \u001b[0mbuildModelLSTM\u001b[0m\u001b[0;34m(\u001b[0m\u001b[0mself\u001b[0m\u001b[0;34m,\u001b[0m \u001b[0mlstmModelNum\u001b[0m\u001b[0;34m)\u001b[0m\u001b[0;34m:\u001b[0m\u001b[0;34m\u001b[0m\u001b[0;34m\u001b[0m\u001b[0m\n\u001b[1;32m    190\u001b[0m         \u001b[0;32mif\u001b[0m   \u001b[0mlstmModelNum\u001b[0m \u001b[0;34m==\u001b[0m \u001b[0;36m1\u001b[0m\u001b[0;34m:\u001b[0m\u001b[0;34m\u001b[0m\u001b[0;34m\u001b[0m\u001b[0m\n\u001b[0;32m--> 191\u001b[0;31m             \u001b[0;32mreturn\u001b[0m \u001b[0mself\u001b[0m\u001b[0;34m.\u001b[0m\u001b[0mbuildModelLSTM_1\u001b[0m\u001b[0;34m(\u001b[0m\u001b[0;34m)\u001b[0m\u001b[0;34m\u001b[0m\u001b[0;34m\u001b[0m\u001b[0m\n\u001b[0m\u001b[1;32m    192\u001b[0m         \u001b[0;32melif\u001b[0m \u001b[0mlstmModelNum\u001b[0m \u001b[0;34m==\u001b[0m \u001b[0;36m2\u001b[0m\u001b[0;34m:\u001b[0m\u001b[0;34m\u001b[0m\u001b[0;34m\u001b[0m\u001b[0m\n\u001b[1;32m    193\u001b[0m             \u001b[0;32mreturn\u001b[0m \u001b[0mself\u001b[0m\u001b[0;34m.\u001b[0m\u001b[0mbuildModelLSTM_2\u001b[0m\u001b[0;34m(\u001b[0m\u001b[0;34m)\u001b[0m\u001b[0;34m\u001b[0m\u001b[0;34m\u001b[0m\u001b[0m\n",
            "\u001b[0;32m<ipython-input-9-86fb88e9905b>\u001b[0m in \u001b[0;36mbuildModelLSTM_1\u001b[0;34m(self)\u001b[0m\n\u001b[1;32m     89\u001b[0m         \u001b[0mlayers\u001b[0m \u001b[0;34m=\u001b[0m \u001b[0;34m[\u001b[0m\u001b[0min_nodes\u001b[0m\u001b[0;34m,\u001b[0m \u001b[0;36m57\u001b[0m\u001b[0;34m*\u001b[0m\u001b[0;36m2\u001b[0m\u001b[0;34m,\u001b[0m \u001b[0;36m57\u001b[0m\u001b[0;34m,\u001b[0m \u001b[0;36m32\u001b[0m\u001b[0;34m,\u001b[0m \u001b[0mout_nodes\u001b[0m\u001b[0;34m]\u001b[0m\u001b[0;34m\u001b[0m\u001b[0;34m\u001b[0m\u001b[0m\n\u001b[1;32m     90\u001b[0m         model.add(LSTM(input_dim=layers[0],output_dim=layers[1],\n\u001b[0;32m---> 91\u001b[0;31m             return_sequences=False))\n\u001b[0m\u001b[1;32m     92\u001b[0m \u001b[0;34m\u001b[0m\u001b[0m\n\u001b[1;32m     93\u001b[0m         model.add(Dense(\n",
            "\u001b[0;31mTypeError\u001b[0m: __init__() missing 1 required positional argument: 'units'"
          ]
        }
      ]
    },
    {
      "cell_type": "code",
      "source": [],
      "metadata": {
        "id": "_B9GVlllqNgj"
      },
      "execution_count": null,
      "outputs": []
    }
  ]
}